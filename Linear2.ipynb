{
  "nbformat": 4,
  "nbformat_minor": 0,
  "metadata": {
    "colab": {
      "provenance": [],
      "authorship_tag": "ABX9TyPGpLCyBNyecknm+XLsbrXA",
      "include_colab_link": true
    },
    "kernelspec": {
      "name": "python3",
      "display_name": "Python 3"
    },
    "language_info": {
      "name": "python"
    }
  },
  "cells": [
    {
      "cell_type": "markdown",
      "metadata": {
        "id": "view-in-github",
        "colab_type": "text"
      },
      "source": [
        "<a href=\"https://colab.research.google.com/github/Surya5890/Linear-Regression/blob/main/Linear2.ipynb\" target=\"_parent\"><img src=\"https://colab.research.google.com/assets/colab-badge.svg\" alt=\"Open In Colab\"/></a>"
      ]
    },
    {
      "cell_type": "markdown",
      "source": [
        "###***Linear Regression***\n",
        "Housing Price Prediction based only on the Number of BedRooms."
      ],
      "metadata": {
        "id": "3DG37TbljPjI"
      }
    },
    {
      "cell_type": "code",
      "source": [
        "import tensorflow as tf\n",
        "import numpy as np"
      ],
      "metadata": {
        "id": "IZ8cqzqijIi-"
      },
      "execution_count": null,
      "outputs": []
    },
    {
      "cell_type": "code",
      "source": [
        "def new_model():\n",
        "  bedrooms = np.array([1,2,3,4,5,6])\n",
        "  cost = np.array([1.0,1.5,2.0,2.5,3.0,3.5], dtype=float)\n",
        "  model = tf.keras.Sequential([tf.keras.layers.Dense(units=1, input_shape = [1])])\n",
        "  model.compile(optimizer='sgd', loss='mean_squared_error')\n",
        "  model.fit(bedrooms, cost, epochs=1000)\n",
        "  return model"
      ],
      "metadata": {
        "id": "jbYSCsLNjyaS"
      },
      "execution_count": null,
      "outputs": []
    },
    {
      "cell_type": "code",
      "source": [
        "model = new_model()"
      ],
      "metadata": {
        "id": "OVixr99zkYkr"
      },
      "execution_count": null,
      "outputs": []
    },
    {
      "cell_type": "code",
      "source": [
        "predict=model.predict([8])\n",
        "print(predict)"
      ],
      "metadata": {
        "colab": {
          "base_uri": "https://localhost:8080/"
        },
        "id": "pa9shAGhlURD",
        "outputId": "8e5cc718-3556-42fd-ca73-bd7a88f3d914"
      },
      "execution_count": null,
      "outputs": [
        {
          "output_type": "stream",
          "name": "stdout",
          "text": [
            "1/1 [==============================] - 0s 124ms/step\n",
            "[[4.503548]]\n"
          ]
        }
      ]
    }
  ]
}